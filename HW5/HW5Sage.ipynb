{
 "cells": [
  {
   "cell_type": "code",
   "execution_count": 5,
   "metadata": {},
   "outputs": [
    {
     "name": "stdout",
     "output_type": "stream",
     "text": [
      "1\t1\t1\t1\t1\t1\t1\t1\t1\t1\t\n",
      "1\t2\t1\t2\t1\t2\t1\t2\t1\t2\t\n",
      "1\t1\t3\t1\t1\t3\t1\t1\t3\t1\t\n",
      "1\t2\t1\t4\t1\t2\t1\t4\t1\t2\t\n",
      "1\t1\t1\t1\t5\t1\t1\t1\t1\t5\t\n",
      "1\t2\t3\t2\t1\t6\t1\t2\t3\t2\t\n",
      "1\t1\t1\t1\t1\t1\t7\t1\t1\t1\t\n",
      "1\t2\t1\t4\t1\t2\t1\t8\t1\t2\t\n",
      "1\t1\t3\t1\t1\t3\t1\t1\t9\t1\t\n",
      "1\t2\t1\t2\t5\t2\t1\t2\t1\t10\t\n"
     ]
    }
   ],
   "source": [
    "def euclid_gcd(a, b):\n",
    "    if b == 0: return a\n",
    "    return euclid_gcd(b, mod(a, b))\n",
    "\n",
    "for a in range(1,11):\n",
    "    for b in range(1,11):\n",
    "        print(euclid_gcd(a,b),end=\"\\t\")\n",
    "    print(\"\")\n",
    "    "
   ]
  },
  {
   "cell_type": "code",
   "execution_count": 3,
   "metadata": {},
   "outputs": [
    {
     "data": {
      "text/plain": [
       "632"
      ]
     },
     "execution_count": 3,
     "metadata": {},
     "output_type": "execute_result"
    }
   ],
   "source": [
    "def DiscreteLog(a, n):\n",
    "    k = 1\n",
    "    # loop until one of these conditions is met\n",
    "    while 1:\n",
    "        # if we have 2^n == a mod n, then k is the discrete log of a mod n\n",
    "        if mod(2,n)^k == mod(a, n): return k\n",
    "        # if we cycle back to the original value a mod n, there is no discrete log\n",
    "        if mod(2,n)^k == mod(a, n): return 0\n",
    "        k += 1\n",
    "DiscreteLog(452, 1019)"
   ]
  },
  {
   "cell_type": "code",
   "execution_count": 20,
   "metadata": {},
   "outputs": [
    {
     "name": "stdout",
     "output_type": "stream",
     "text": [
      "[1, 2, 4, 8, 9, 13, 15, 16]\n",
      "[1, 4, 6, 7, 9, 10, 11, 13, 15, 16, 17, 24, 25, 28, 29, 36, 37, 38, 40, 42, 43, 44, 46, 47, 49, 52]\n"
     ]
    }
   ],
   "source": [
    "def ResiduesModP(p):\n",
    "    v = []\n",
    "    for n in range(1, p):\n",
    "        v.append(mod(n,p)^2)\n",
    "    return list(set(v))\n",
    "\n",
    "print(ResiduesModP(17))\n",
    "print(ResiduesModP(53))"
   ]
  },
  {
   "cell_type": "code",
   "execution_count": 6,
   "metadata": {},
   "outputs": [
    {
     "ename": "NameError",
     "evalue": "name 'contain' is not defined",
     "output_type": "error",
     "traceback": [
      "\u001b[0;31m---------------------------------------------------------------------------\u001b[0m",
      "\u001b[0;31mNameError\u001b[0m                                 Traceback (most recent call last)",
      "\u001b[0;32m<ipython-input-6-730b62295426>\u001b[0m in \u001b[0;36m<module>\u001b[0;34m\u001b[0m\n\u001b[0;32m----> 1\u001b[0;31m \u001b[0mhelp\u001b[0m\u001b[0;34m(\u001b[0m\u001b[0mcontain\u001b[0m\u001b[0;34m)\u001b[0m\u001b[0;34m\u001b[0m\u001b[0;34m\u001b[0m\u001b[0m\n\u001b[0m",
      "\u001b[0;31mNameError\u001b[0m: name 'contain' is not defined"
     ]
    }
   ],
   "source": []
  },
  {
   "cell_type": "code",
   "execution_count": 4,
   "metadata": {},
   "outputs": [
    {
     "name": "stdout",
     "output_type": "stream",
     "text": [
      "True\n",
      "True\n",
      "True\n",
      "True\n",
      "True\n",
      "True\n",
      "True\n",
      "True\n",
      "True\n",
      "True\n",
      "True\n",
      "True\n",
      "True\n",
      "True\n",
      "True\n",
      "True\n",
      "True\n",
      "True\n",
      "True\n",
      "True\n",
      "True\n",
      "True\n",
      "True\n",
      "True\n",
      "True\n"
     ]
    }
   ],
   "source": [
    "p = next_prime(2)\n",
    "for i in range(1, 100):\n",
    "    if(mod(p,3)==1 and mod(p,4) ==3):\n",
    "        print(mod(p,6) == 1)\n",
    "    p = next_prime(p)"
   ]
  },
  {
   "cell_type": "code",
   "execution_count": null,
   "metadata": {},
   "outputs": [],
   "source": []
  }
 ],
 "metadata": {
  "kernelspec": {
   "display_name": "SageMath 9.0",
   "language": "sage",
   "name": "sagemath"
  },
  "language_info": {
   "codemirror_mode": {
    "name": "ipython",
    "version": 3
   },
   "file_extension": ".py",
   "mimetype": "text/x-python",
   "name": "python",
   "nbconvert_exporter": "python",
   "pygments_lexer": "ipython3",
   "version": "3.8.5"
  }
 },
 "nbformat": 4,
 "nbformat_minor": 4
}
