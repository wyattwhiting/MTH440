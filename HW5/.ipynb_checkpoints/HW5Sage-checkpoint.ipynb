{
 "cells": [
  {
   "cell_type": "code",
   "execution_count": 5,
   "metadata": {},
   "outputs": [
    {
     "name": "stdout",
     "output_type": "stream",
     "text": [
      "1\t1\t1\t1\t1\t1\t1\t1\t1\t1\t\n",
      "1\t2\t1\t2\t1\t2\t1\t2\t1\t2\t\n",
      "1\t1\t3\t1\t1\t3\t1\t1\t3\t1\t\n",
      "1\t2\t1\t4\t1\t2\t1\t4\t1\t2\t\n",
      "1\t1\t1\t1\t5\t1\t1\t1\t1\t5\t\n",
      "1\t2\t3\t2\t1\t6\t1\t2\t3\t2\t\n",
      "1\t1\t1\t1\t1\t1\t7\t1\t1\t1\t\n",
      "1\t2\t1\t4\t1\t2\t1\t8\t1\t2\t\n",
      "1\t1\t3\t1\t1\t3\t1\t1\t9\t1\t\n",
      "1\t2\t1\t2\t5\t2\t1\t2\t1\t10\t\n"
     ]
    }
   ],
   "source": [
    "def euclid_gcd(a, b):\n",
    "    if b == 0: return a\n",
    "    return euclid_gcd(b, mod(a, b))\n",
    "\n",
    "for a in range(1,11):\n",
    "    for b in range(1,11):\n",
    "        print(euclid_gcd(a,b),end=\"\\t\")\n",
    "    print(\"\")\n",
    "    "
   ]
  },
  {
   "cell_type": "code",
   "execution_count": null,
   "metadata": {},
   "outputs": [],
   "source": []
  }
 ],
 "metadata": {
  "kernelspec": {
   "display_name": "SageMath 9.0",
   "language": "sage",
   "name": "sagemath"
  },
  "language_info": {
   "codemirror_mode": {
    "name": "ipython",
    "version": 3
   },
   "file_extension": ".py",
   "mimetype": "text/x-python",
   "name": "python",
   "nbconvert_exporter": "python",
   "pygments_lexer": "ipython3",
   "version": "3.8.5"
  }
 },
 "nbformat": 4,
 "nbformat_minor": 4
}
